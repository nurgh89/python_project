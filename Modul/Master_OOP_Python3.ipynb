{
 "cells": [
  {
   "cell_type": "markdown",
   "metadata": {},
   "source": [
    "# Python OOP\n",
    "\n",
    "**Covered Topics**\n",
    "- OOP Fundamentals\n",
    "- Concepts of OOP\n",
    "  - Inheritances\n",
    "  - Polymorphism\n",
    "  - Abstraction\n",
    "  - Encapsulation"
   ]
  },
  {
   "cell_type": "markdown",
   "metadata": {},
   "source": [
    "## OOP Fundamentals"
   ]
  },
  {
   "cell_type": "markdown",
   "metadata": {},
   "source": [
    "### OOP Structure\n",
    "\n",
    "<img src=\"https://docs.google.com/uc?export=download&id=1QL7ztwAFfu6OyNJl6KCuxsEErGVa98AR\">"
   ]
  },
  {
   "cell_type": "markdown",
   "metadata": {},
   "source": [
    "#### Class dan Object\n",
    "\n",
    "Untuk membuat sebuah kelas pada Bahasa Python dimulai dengan menggunakan kata kunci class dan dikuti dengan titik dua (:).\n",
    "Aturan penulisan:\n",
    "\n",
    "```\n",
    "class <nama_kelas>:\n",
    "```"
   ]
  },
  {
   "cell_type": "code",
   "execution_count": null,
   "metadata": {},
   "outputs": [],
   "source": [
    "class Handphone():\n",
    "  pass"
   ]
  },
  {
   "cell_type": "markdown",
   "metadata": {},
   "source": [
    "Seperti definisinya, class diatas akan menjadi *blueprint* dari objek/instance yang akan masukkan pada tahap selanjutnya. Lalu kita inisiasikan objek dari class yang telah kita buat."
   ]
  },
  {
   "cell_type": "code",
   "execution_count": null,
   "metadata": {},
   "outputs": [],
   "source": [
    "hp_bambang = Handphone()\n",
    "hp_caca = Handphone()\n",
    "\n",
    "print(hp_bambang)\n",
    "print(hp_caca)"
   ]
  },
  {
   "cell_type": "markdown",
   "metadata": {},
   "source": [
    "Kode diatas artinya objek hp_bambang dan hp_caca memakai class mobil sebagai *blueprint* untuk objek tersebut.\n",
    "\n",
    "Artinya semua variabel, atau metode nantinya akan mengikuti class mobil. Sekarang kita akan masukan atribut/variabel dalam objek yang kita buat. kita akan masukkan jenis dan warna dari objek tersebut."
   ]
  },
  {
   "cell_type": "code",
   "execution_count": null,
   "metadata": {},
   "outputs": [],
   "source": [
    "hp_bambang.merk = \"oddo\"\n",
    "hp_bambang.warna = 'hijau telur asin'\n",
    "\n",
    "hp_caca.merk = \"siomay\"\n",
    "hp_caca.warna = 'hitam'"
   ]
  },
  {
   "cell_type": "markdown",
   "metadata": {},
   "source": [
    "Jika kita menggunakan metode print() untuk melihat atribut dan objek yang telah kita buat maka kita akan mendapatkan"
   ]
  },
  {
   "cell_type": "code",
   "execution_count": null,
   "metadata": {},
   "outputs": [],
   "source": [
    "print(hp_bambang)\n",
    "print(hp_bambang.warna)\n",
    "print(hp_bambang.__dict__)"
   ]
  },
  {
   "cell_type": "markdown",
   "metadata": {},
   "source": [
    "- Pada hasil pertama kita diperlihatkan bahwa hp_bambang merupakan sebuah objek.\n",
    "\n",
    "- Pada hasil kedua kita diperlihatkan bahwa atribut warna pada objek hp_bambang bernilai “hijau telur asin”.\n",
    "\n",
    "- Pada hasil terakhir kita ingin melihat atribut apa saja yang dimiliki oleh objek tersebut."
   ]
  },
  {
   "cell_type": "code",
   "execution_count": null,
   "metadata": {},
   "outputs": [],
   "source": [
    "print(hp_caca)\n",
    "print(hp_caca.merk)\n",
    "print(hp_caca.__dict__)"
   ]
  },
  {
   "cell_type": "markdown",
   "metadata": {},
   "source": [
    "### Methods\n",
    "\n",
    "Sebuah class memliki metode didalamnya yang dapat kita variasikan fungsinya tidak seperti metode init. Kalau kita menggunakan pemisalan sederhana, Jika objek yang kita maksudkan adalah kalkulator maka yang termasuk ke dalam metode yang dimaksud adalah operasi tambah, kurang, bagi, dan kali.\n",
    "\n",
    "Sekarang kita akan mencoba membuat metode pada class handphone sebelumnya."
   ]
  },
  {
   "cell_type": "code",
   "execution_count": null,
   "metadata": {},
   "outputs": [],
   "source": [
    "class Handphone():\n",
    "  pass\n",
    "\n",
    "  def ringing(self):\n",
    "    print(\"kring kring kring\")\n",
    "\n",
    "  def call(self, orang):\n",
    "      print(f\"memanggil {orang}\")\n",
    "      # print(\"memanggil \"+orang)"
   ]
  },
  {
   "cell_type": "markdown",
   "metadata": {},
   "source": [
    "method dari object, perlu ditambahkan parameter self"
   ]
  },
  {
   "cell_type": "code",
   "execution_count": null,
   "metadata": {},
   "outputs": [],
   "source": [
    "hp_bambang = Handphone()\n",
    "\n",
    "hp_bambang.ringing()"
   ]
  },
  {
   "cell_type": "markdown",
   "metadata": {},
   "source": [
    "Metode ringing adalah contoh metode yang tanpa argumen, sehingga saat melakukan pemanggilan kita tidak perlu mengisikan argumen ke dalam kurung, walaupun terdapat parameter self.\n",
    "\n",
    "Selain metode tersebut, ada juga metode dengan argumen yang akan kita contohkan dengan membuat sebuah fungsi call."
   ]
  },
  {
   "cell_type": "code",
   "execution_count": null,
   "metadata": {},
   "outputs": [],
   "source": [
    "hp_bambang = Handphone()\n",
    "\n",
    "hp_bambang.call(\"joko\")"
   ]
  },
  {
   "cell_type": "markdown",
   "metadata": {},
   "source": [
    "Walaupun method call memiliki parameter self, namun tidak perlu didefinisikan ketika memanggil, cukup memasukkan parameter selain self"
   ]
  },
  {
   "cell_type": "markdown",
   "metadata": {},
   "source": [
    "**\\_\\_Init\\_\\_ method**\n",
    "\n",
    "Metode \\_\\_Init\\_\\_ digunakan sebagai inisiasi class yang kita jalankan jadi saat kita memanggil class tersebut sebagai sebuah objek maka metode ini akan dijalankan terlebih dahulu."
   ]
  },
  {
   "cell_type": "code",
   "execution_count": null,
   "metadata": {},
   "outputs": [],
   "source": [
    "class Handphone():\n",
    "  def __init__(self):\n",
    "    print(\"ini hp saya\")\n",
    "\n",
    "  def ringing(self):\n",
    "    print(\"kring kring kring\")"
   ]
  },
  {
   "cell_type": "code",
   "execution_count": null,
   "metadata": {},
   "outputs": [],
   "source": [
    "hp_bambang = Handphone()"
   ]
  },
  {
   "cell_type": "markdown",
   "metadata": {},
   "source": [
    "Seperti yang terlihat, saat kita menginisiasi pembuatan objek hp_bambang maka dengan otomatis print(“ini hp saya”) terjalankan.\n",
    "\n",
    "Jadi apa gunanya hal ini?\n",
    "dengan melakukan ini maka kita bisa lebih menyederhanakan kode yang kita tulis sehingga lebih mudah dibaca.\n",
    "\n",
    "Kita akan coba masukkan atribut merk dan warna pada fungsi init tersebut."
   ]
  },
  {
   "cell_type": "code",
   "execution_count": null,
   "metadata": {},
   "outputs": [],
   "source": [
    "class Handphone:\n",
    "\n",
    "    def __init__(self, merk, warna):\n",
    "        self.merk = merk\n",
    "        self.warna = warna"
   ]
  },
  {
   "cell_type": "code",
   "execution_count": null,
   "metadata": {},
   "outputs": [],
   "source": [
    "hp_bambang = Handphone(\"oddo\", 'hijau telur asin')\n",
    "print(hp_bambang)\n",
    "print(hp_bambang.warna)\n",
    "print(hp_bambang.__dict__)"
   ]
  },
  {
   "cell_type": "code",
   "execution_count": null,
   "metadata": {},
   "outputs": [],
   "source": [
    "hp_caca = Handphone(\"siomay\", 'hitam')\n",
    "print(hp_caca)\n",
    "print(hp_caca.warna)\n",
    "print(hp_caca.__dict__)"
   ]
  },
  {
   "cell_type": "code",
   "execution_count": null,
   "metadata": {},
   "outputs": [],
   "source": [
    "class Handphone():\n",
    "  pass\n",
    "\n",
    "\n",
    "hp_bambang = Handphone()\n",
    "hp_bambang.merk = \"oddo\"\n",
    "hp_bambang.warna = 'hijau telur asin'\n",
    "print(hp_bambang)\n",
    "print(hp_bambang.warna)\n",
    "print(hp_bambang.__dict__)\n",
    "\n",
    "hp_caca = Handphone()\n",
    "hp_caca.merk = \"siomay\"\n",
    "hp_caca.warna = 'hitam'\n",
    "print(hp_caca)\n",
    "print(hp_caca.warna)\n",
    "print(hp_caca.__dict__)"
   ]
  },
  {
   "cell_type": "markdown",
   "metadata": {},
   "source": [
    "Kesederhaan ini akan lebih terlihat lagi jika apa yang kita lakukan menjadi lebih rumit sehingga membutuhkan banyak sekali atribut maka kita hanya membutuhkan satu baris saja untuk menginisiasi sebuah objek."
   ]
  },
  {
   "cell_type": "markdown",
   "metadata": {},
   "source": [
    "Pada dasarnya method init sama seperti method lain, namun method ini akan selalu dijalankan ketika object pertama dipanggil dan method ini akan dijalankan pertama kali"
   ]
  },
  {
   "cell_type": "markdown",
   "metadata": {},
   "source": [
    "### Attribute Kelas & Attribute Objek\n",
    "\n",
    "Atribut yang kita buat sebelumnya adalah atribut objek, apa maksudnya? Maksudnya adalah atribut tersebut hanya menjadi miliki objek yang didefinisikan.\n",
    "\n",
    "Misal untuk hp_bambang merknya adalah oddo sedangkan untuk hp_caca merknya adalah siomay.\n",
    "\n",
    "Atribut kelas adalah atribut yang menjadi milik si class tersebut artinya nilainya akan sama untuk semua metode di dalam class tersebut."
   ]
  },
  {
   "cell_type": "code",
   "execution_count": null,
   "metadata": {},
   "outputs": [],
   "source": [
    "class Handphone:\n",
    "    entitas = 'android'\n",
    "\n",
    "    def __init__(self, merk, warna):\n",
    "        self.merk = merk\n",
    "        self.warna = warna"
   ]
  },
  {
   "cell_type": "code",
   "execution_count": null,
   "metadata": {},
   "outputs": [],
   "source": [
    "hp_bambang = Handphone(\"oddo\", 'hijau telur asin')\n",
    "print(hp_bambang)\n",
    "print(hp_bambang.warna)\n",
    "print(hp_bambang.__dict__)"
   ]
  },
  {
   "cell_type": "code",
   "execution_count": null,
   "metadata": {},
   "outputs": [],
   "source": [
    "hp_caca = Handphone(\"siomay\", 'hitam')\n",
    "print(hp_caca)\n",
    "print(hp_caca.warna)\n",
    "print(hp_caca.__dict__)"
   ]
  },
  {
   "cell_type": "code",
   "execution_count": null,
   "metadata": {},
   "outputs": [],
   "source": [
    "print(hp_bambang.entitas)\n",
    "print(hp_caca.entitas)"
   ]
  },
  {
   "cell_type": "code",
   "execution_count": null,
   "metadata": {},
   "outputs": [],
   "source": [
    "hp_bambang.entitas = 'apel'"
   ]
  },
  {
   "cell_type": "code",
   "execution_count": null,
   "metadata": {},
   "outputs": [],
   "source": [
    "print(hp_bambang.entitas)\n",
    "print(hp_caca.entitas)"
   ]
  },
  {
   "cell_type": "code",
   "execution_count": null,
   "metadata": {},
   "outputs": [],
   "source": [
    "Handphone.entitas = 'apel'"
   ]
  },
  {
   "cell_type": "code",
   "execution_count": null,
   "metadata": {},
   "outputs": [],
   "source": [
    "print(hp_bambang.entitas)\n",
    "print(hp_caca.entitas)"
   ]
  },
  {
   "cell_type": "markdown",
   "metadata": {},
   "source": [
    "Sampai sini kalian sudah bisa mengenal OOP dan memuat class sederhana. dengan memanfaatkan atribut/variabel dan metode/fungsi yang sesuai."
   ]
  },
  {
   "cell_type": "markdown",
   "metadata": {},
   "source": [
    "## Concepts of OOP\n",
    "\n",
    "<img src=\"https://docs.google.com/uc?export=download&id=1C7mSNggBhMy5jrBxIMllsw4r9gnuPFmE\">"
   ]
  },
  {
   "cell_type": "markdown",
   "metadata": {},
   "source": [
    "### Inheritance\n",
    "\n",
    "Inheritance adalah sifat penurunan, yaitu menurunkan sifat yang dimiliki kelas utama (parent) class kepada kelas yang diturunkan (child class).\n",
    "\n",
    "```\n",
    "NEW Class Functionality = OLD Class Functionality + EXTRA\n",
    "```\n",
    "\n",
    "\n",
    "\n",
    "<img src=\"https://docs.google.com/uc?export=download&id=13CtXFytH3uAxq28QHha0aDcpQVenA91H\">"
   ]
  },
  {
   "cell_type": "code",
   "execution_count": null,
   "metadata": {},
   "outputs": [],
   "source": [
    "class Warga():\n",
    "\n",
    "    def __init__(self, NIK: str):\n",
    "        self.nik = NIK\n",
    "        self.memilih = False\n",
    "\n",
    "class Satpam(Warga):\n",
    "    pass\n",
    "\n",
    "class Petugas(Warga):\n",
    "    pass"
   ]
  },
  {
   "cell_type": "code",
   "execution_count": null,
   "metadata": {},
   "outputs": [],
   "source": [
    "muklish = Satpam(\"123454321\")\n",
    "print(muklish.nik)"
   ]
  },
  {
   "cell_type": "code",
   "execution_count": null,
   "metadata": {},
   "outputs": [],
   "source": [
    "class Warga():\n",
    "    rekap_pilihan = []\n",
    "\n",
    "    def __init__(self, NIK: str):\n",
    "        self.nik = NIK\n",
    "        self.memilih = False\n",
    "\n",
    "    def nyoblos(self, pilihan: str):\n",
    "        if self.memilih == False:\n",
    "          self.pilihan = pilihan\n",
    "          self.memilih = True\n",
    "          Warga.rekap_pilihan.append(pilihan)\n",
    "          print(f\"{self.nik} memilih {pilihan}\")\n",
    "        else:\n",
    "          print(f\"{self.nik} sudah memilih, tidak dapat memilih lagi\")\n",
    "\n",
    "class Satpam(Warga):\n",
    "    pass\n",
    "\n",
    "class Petugas(Warga):\n",
    "    pass"
   ]
  },
  {
   "cell_type": "code",
   "execution_count": null,
   "metadata": {},
   "outputs": [],
   "source": [
    "muklish = Satpam(\"123454321\")\n",
    "print(muklish.nik)\n",
    "muklish.nyoblos(\"aldi taher\")\n",
    "\n",
    "ucup = Petugas(\"654321\")\n",
    "print(ucup.nik)\n",
    "ucup.nyoblos(\"aldi taher\")"
   ]
  },
  {
   "cell_type": "code",
   "execution_count": null,
   "metadata": {},
   "outputs": [],
   "source": [
    "class Satpam(Warga):\n",
    "    def __init__(self, NIK, id_satpam):\n",
    "        # Call the parent constructor using Classname.__init__()\n",
    "        Warga.__init__(self, NIK) # <===== self is Satpam but also Warga\n",
    "        # Add more constructor\n",
    "        self.id_satpam = id_satpam\n",
    "\n",
    "class Petugas(Warga):\n",
    "    pass"
   ]
  },
  {
   "cell_type": "code",
   "execution_count": null,
   "metadata": {},
   "outputs": [],
   "source": [
    "muklish = Satpam(\"123454321\", \"satpam123\")\n",
    "print(muklish.nik)\n",
    "print(muklish.id_satpam)"
   ]
  },
  {
   "cell_type": "code",
   "execution_count": null,
   "metadata": {},
   "outputs": [],
   "source": [
    "class Satpam(Warga):\n",
    "    def __init__(self, NIK, id_satpam):\n",
    "        # Call the parent constructor using Classname.__init__()\n",
    "        Warga.__init__(self, NIK) # <===== self is Satpam but also Warga\n",
    "        # Add more constructor\n",
    "        self.id_satpam = id_satpam\n",
    "\n",
    "    def jaga_tpu(self, tempat: str):\n",
    "        print(f\"{self.id_satpam} jaga di {tempat}\")\n",
    "\n",
    "class Petugas(Warga):\n",
    "    pass"
   ]
  },
  {
   "cell_type": "code",
   "execution_count": null,
   "metadata": {},
   "outputs": [],
   "source": [
    "muklish = Satpam(\"123454321\", \"satpam123\")\n",
    "muklish.jaga_tpu(\"sukamaju\")\n",
    "muklish.nyoblos(\"aldi taher\")"
   ]
  },
  {
   "cell_type": "code",
   "execution_count": null,
   "metadata": {},
   "outputs": [],
   "source": [
    "class Petugas(Warga):\n",
    "    def __init__(self, NIK, id_petugas):\n",
    "        # Call the parent constructor using Classname.__init__()\n",
    "        Warga.__init__(self, NIK) # <===== self is Petugas but also Warga\n",
    "\n",
    "        # Add more constructor\n",
    "        self.id_petugas = id_petugas\n",
    "\n",
    "    def ngitung_suara(self):\n",
    "        self.rekap_suara = {}\n",
    "        print(Warga.rekap_pilihan)\n",
    "\n",
    "        for suara in Warga.rekap_pilihan:\n",
    "            if suara in self.rekap_suara:\n",
    "                self.rekap_suara[suara] += 1\n",
    "            else:\n",
    "                self.rekap_suara[suara] = 1\n",
    "\n",
    "        return self.id_petugas, self.rekap_suara"
   ]
  },
  {
   "cell_type": "code",
   "execution_count": null,
   "metadata": {},
   "outputs": [],
   "source": [
    "nana = Warga(\"1234\")\n",
    "nana.nyoblos(\"Nurhadi\")\n",
    "\n",
    "bambang = Satpam(\"13124\", \"satpam123\")\n",
    "bambang.nyoblos(\"aldi taher\")"
   ]
  },
  {
   "cell_type": "code",
   "execution_count": null,
   "metadata": {},
   "outputs": [],
   "source": [
    "jajang = Petugas(\"123454321\", \"petugas_tpu_123\")\n",
    "\n",
    "id_petugas, rekap_suara = jajang.ngitung_suara()\n",
    "print(f\"hasil rekap dari petugas {id_petugas} adalah {rekap_suara}\")"
   ]
  },
  {
   "cell_type": "markdown",
   "metadata": {},
   "source": [
    "### Polymorphism\n",
    "\n",
    "In simple way, polymorphism means the same function name being used for different use case\n",
    "\n",
    "\n",
    "\n",
    "```\n",
    "class MyParent:\n",
    "   def talk(self):\n",
    "       print(“saya parent”)\n",
    "\n",
    "class MyChild(MyParent):\n",
    "   def talk(self):\n",
    "       print(“saya child”)\n",
    "```"
   ]
  },
  {
   "cell_type": "code",
   "execution_count": null,
   "metadata": {},
   "outputs": [],
   "source": [
    "class Warga():\n",
    "    def __init__(self, NIK: str):\n",
    "        self.nik = NIK\n",
    "\n",
    "    def nyoblos(self, pilihan: str):\n",
    "        self.pilihan = pilihan\n",
    "        print(f\"{self.nik} memilih {pilihan}\")\n",
    "\n",
    "class Tni(Warga):\n",
    "    def __init__(self, NIK, id_tni):\n",
    "        # Call the parent constructor using Classname.__init__()\n",
    "        super().__init__(NIK) # <===== self is Satpam but also Warga\n",
    "\n",
    "        # Add more constructor\n",
    "        self.id_tni = id_tni\n",
    "\n",
    "    def nyoblos(self, pilihan: str):\n",
    "        print(f\"{self.nik} tidak boleh memilih karena terdaftar dalam anggota TNI dengan nomor id {self.id_tni}\")"
   ]
  },
  {
   "cell_type": "code",
   "execution_count": null,
   "metadata": {},
   "outputs": [],
   "source": [
    "lambo = Tni(\"123r4123\", \"tni_123\")\n",
    "lambo.nyoblos(\"Nurhadi\")"
   ]
  },
  {
   "cell_type": "markdown",
   "metadata": {},
   "source": [
    "### Abstraction\n",
    "\n",
    "It allows you to create a set of methods that must be created within any child classes built from the abstract class.\n"
   ]
  },
  {
   "cell_type": "code",
   "execution_count": null,
   "metadata": {},
   "outputs": [],
   "source": [
    "from abc import ABC, abstractmethod\n",
    "\n",
    "class Warga(ABC):\n",
    "    def __init__(self, NIK: str):\n",
    "        self.nik = NIK\n",
    "\n",
    "    @abstractmethod\n",
    "    def nyoblos(self):\n",
    "        pass\n",
    "\n",
    "class Tni(Warga):\n",
    "    def __init__(self, NIK, id_tni):\n",
    "        # Call the parent constructor using Classname.__init__()\n",
    "        super().__init__(NIK) # <===== self is Satpam but also Warga\n",
    "\n",
    "        # Add more constructor\n",
    "        self.id_tni = id_tni\n",
    "\n",
    "    def nyoblos(self, pilihan: str):\n",
    "        print(f\"{self.nik} tidak boleh memilih karena terdaftar dalam anggota TNI dengan nomor id {self.id_tni}\")\n",
    "\n",
    "class Satpam(Warga):\n",
    "    def __init__(self, NIK, id_satpam):\n",
    "        # Call the parent constructor using Classname.__init__()\n",
    "        Warga.__init__(self, NIK) # <===== self is Satpam but also Warga\n",
    "        # Add more constructor\n",
    "        self.id_satpam = id_satpam\n",
    "\n",
    "    def nyoblos(self, pilihan: str):\n",
    "        self.pilihan = pilihan\n",
    "        print(f\"{self.nik} memilih {pilihan}\")"
   ]
  },
  {
   "cell_type": "code",
   "execution_count": null,
   "metadata": {},
   "outputs": [],
   "source": [
    "lambo = Tni(\"123r4123\", \"tni_123\")\n",
    "lambo.nyoblos(\"Nurhadi\")\n",
    "\n",
    "bambang = Satpam(\"13124\", \"satpam123\")\n",
    "bambang.nyoblos(\"aldi taher\")"
   ]
  },
  {
   "cell_type": "code",
   "execution_count": null,
   "metadata": {},
   "outputs": [],
   "source": [
    "class Orang_gila(Warga):\n",
    "    def __init__(self, NIK):\n",
    "        # Call the parent constructor using Classname.__init__()\n",
    "        Warga.__init__(self, NIK) # <===== self is Satpam but also Warga\n",
    "        # Add more constructor\n",
    "        self.id_satpam = id_satpam"
   ]
  },
  {
   "cell_type": "code",
   "execution_count": null,
   "metadata": {},
   "outputs": [],
   "source": [
    "ucok = Orang_gila(\"1412341\")\n",
    "ucok.nyoblos(\"giring\")"
   ]
  },
  {
   "cell_type": "markdown",
   "metadata": {},
   "source": [
    "### Encapsulation\n",
    "\n",
    "Encapsulation is one of the fundamental principles of object-oriented programming, which refers to the ability to encapsulate or hide the methods and variables from outside of class, and only expose a public interface to interact with it.\n",
    "\n",
    "Suatu objek pada python dapat kita batasi akses yang dimiliki terhadap objek tersebut dengan menggunakan encapsulation. caranya adalah dengan menggunakan dua garis bawah (__) sebelum nama variabel."
   ]
  },
  {
   "cell_type": "code",
   "execution_count": null,
   "metadata": {},
   "outputs": [],
   "source": [
    "class Warga():\n",
    "    def __init__(self, NIK: str, nama: str):\n",
    "        self.nik = NIK # public attr\n",
    "        self.__nama = nama # private attr\n",
    "\n",
    "mukhlis = Warga(\"123\", \"mukhlis\")\n",
    "print(mukhlis.__nama)\n",
    "# print(mukhlis.__dict__)"
   ]
  },
  {
   "cell_type": "code",
   "execution_count": null,
   "metadata": {},
   "outputs": [],
   "source": [
    "class Warga():\n",
    "    def __init__(self, NIK: str, nama: str):\n",
    "        self.nik = NIK # public attr\n",
    "        self.__nama = nama # private attr\n",
    "\n",
    "    # getter method\n",
    "    def get_nama(self):\n",
    "        print(\"mengambil var nama\")\n",
    "        return self.__nama"
   ]
  },
  {
   "cell_type": "code",
   "execution_count": null,
   "metadata": {},
   "outputs": [],
   "source": [
    "mukhlis = Warga(\"123\", \"mukhlis\")\n",
    "print(mukhlis.get_nama())"
   ]
  },
  {
   "cell_type": "code",
   "execution_count": null,
   "metadata": {},
   "outputs": [],
   "source": [
    "mukhlis.__nik = '0123456789'"
   ]
  },
  {
   "cell_type": "code",
   "execution_count": null,
   "metadata": {},
   "outputs": [],
   "source": [
    "nama_mukhlis = mukhlis.get_nik()\n",
    "print(nama_mukhlis)"
   ]
  },
  {
   "cell_type": "code",
   "execution_count": null,
   "metadata": {},
   "outputs": [],
   "source": [
    "class Warga():\n",
    "    def __init__(self, NIK: str, nama: str):\n",
    "        self.__nik = NIK # public attr\n",
    "        self.nama = nama # private attr\n",
    "\n",
    "    # property get\n",
    "    @property\n",
    "    def nik(self):\n",
    "        return self.__nik\n"
   ]
  },
  {
   "cell_type": "code",
   "execution_count": null,
   "metadata": {},
   "outputs": [],
   "source": [
    "mukhlis = Warga(\"123\", \"mukhlis\")\n",
    "nik_mukhlis = mukhlis.nik\n",
    "print(nik_mukhlis)"
   ]
  },
  {
   "cell_type": "code",
   "execution_count": null,
   "metadata": {},
   "outputs": [],
   "source": [
    "class Warga():\n",
    "    def __init__(self, NIK: str, nama: str):\n",
    "        self.__nik = NIK # public attr\n",
    "        self.nama = nama # private attr\n",
    "\n",
    "    # property get\n",
    "    @property\n",
    "    def nik(self):\n",
    "        return self.__nik\n",
    "\n",
    "    # property set\n",
    "    @nik.setter\n",
    "    def nik(self, nik):\n",
    "        if len(nik) == 10:\n",
    "            self.__nik = nik\n",
    "        else:\n",
    "            print(\"nik harus 10\")\n",
    "\n",
    "mukhlis = Warga(\"123\", \"mukhlis\")\n",
    "nik_mukhlis = mukhlis.nik\n",
    "print(nik_mukhlis)\n",
    "\n",
    "mukhlis.nik = \"0123456789123\"\n",
    "nik_mukhlis = mukhlis.nik\n",
    "print(nik_mukhlis)\n",
    "\n",
    "mukhlis.__nik = \"nama_baru\"\n",
    "print(mukhlis.__nik)"
   ]
  }
 ],
 "metadata": {
  "language_info": {
   "name": "python"
  },
  "orig_nbformat": 4
 },
 "nbformat": 4,
 "nbformat_minor": 2
}
